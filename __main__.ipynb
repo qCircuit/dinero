{
  "nbformat": 4,
  "nbformat_minor": 0,
  "metadata": {
    "colab": {
      "provenance": []
    },
    "kernelspec": {
      "name": "python3",
      "display_name": "Python 3"
    },
    "language_info": {
      "name": "python"
    }
  },
  "cells": [
    {
      "cell_type": "code",
      "execution_count": 1,
      "metadata": {
        "colab": {
          "base_uri": "https://localhost:8080/"
        },
        "id": "-Ep3OhmKA2zF",
        "outputId": "1e6bbf48-bfec-44e7-8fdb-b30d38b24373"
      },
      "outputs": [
        {
          "output_type": "stream",
          "name": "stdout",
          "text": [
            "Drive already mounted at /content/d; to attempt to forcibly remount, call drive.mount(\"/content/d\", force_remount=True).\n"
          ]
        }
      ],
      "source": [
        "from google.colab import drive\n",
        "drive.mount(\"/content/d\")\n",
        "\n",
        "!cp d/MyDrive/dinero/modules.py ./\n",
        "import modules\n",
        "modules.cuenta_path = \"d/MyDrive/dinero/cuentas.json\"\n",
        "modules.transacciones_path = \"d/MyDrive/dinero/transacciones.csv\"\n",
        "from modules import *\n",
        "\n",
        "import pandas as pd\n",
        "\n",
        "def actualizar_cuenta():\n",
        "    cuentas = json.load(open(modules.cuenta_path, \"rb\"))\n",
        "    for row in cuentas.items():\n",
        "        print(row)\n",
        "    nombre = input(\"nombre de cuenta: \")\n",
        "    valor = float(input(\"valor: \"))\n",
        "    cuentas[nombre][\"balance\"] = valor\n",
        "    json.dump(cuentas, open(modules.cuenta_path, \"w\"))\n",
        "    cuentas = json.load(open(modules.cuenta_path, \"rb\"))\n",
        "    for row, value in cuentas.items():\n",
        "        print(row, value)\n",
        "\n",
        "    return 0\n",
        "\n",
        "def actualizar_transacciones():\n",
        "    transacciones = pd.read_csv(modules.transacciones_path)\n",
        "    print(transacciones)\n",
        "    idx, columna = int(input(\"idx: \")), input(\"columna: \")\n",
        "    valor = input(\"valor: \")\n",
        "    valor = int(valor) if columna == \"contidad\" else valor\n",
        "    transacciones.loc[transacciones.index == idx, columna] = valor\n",
        "    transacciones.to_csv(modules.transacciones_path, index=False)\n",
        "    transacciones = pd.read_csv(modules.transacciones_path)\n",
        "    print(transacciones)\n",
        "\n",
        "    return 0\n",
        "\n",
        "def eliminar_una_transaccion():\n",
        "    transacciones = pd.read_csv(modules.transacciones_path)\n",
        "    print(transacciones)\n",
        "    idx = input(\"idx: \")\n",
        "    if idx == \"-1\":\n",
        "        transacciones = transacciones.drop(len(transacciones)-1)\n",
        "    else:\n",
        "        transacciones = transacciones.drop(idx)\n",
        "    transacciones.to_csv(modules.transacciones_path, index=False)\n",
        "    transacciones = pd.read_csv(modules.transacciones_path)\n",
        "    print(transacciones)\n",
        "\n",
        "    return 0"
      ]
    },
    {
      "cell_type": "code",
      "source": [
        "if __name__ == \"__main__\":\n",
        "\n",
        "    cuentas, start_cuentas_list = cuentas_obtener()\n",
        "\n",
        "    action_dict = {\n",
        "        1: \"una cuenta anadir\",\n",
        "        2: \"enumerar todas las cuentas\",\n",
        "        3: \"debitar una cuenta\",\n",
        "        4: \"accreditar una cuenta\",\n",
        "        5: \"transferir entre cuentas\"\n",
        "    }\n",
        "\n",
        "    print(\"-\"*21 + \"acciones disponsibles:\" + \"-\"*21)\n",
        "    [print(f\"{k} : {accion}\") for k,accion in action_dict.items()]\n",
        "    print(\"-\"*64,\"\\n\")\n",
        "\n",
        "    while True:\n",
        "        action = input(\"que accion es necesario? \")\n",
        "        if action == \"q\": \n",
        "            print(f\"sequencia completada\") \n",
        "            break\n",
        "        elif int(action) == 1: cuenta_anadir(cuentas, start_cuentas_list)\n",
        "        elif int(action) == 2: cuentas_enumerar(cuentas)\n",
        "        elif int(action) == 3: debitar(cuentas, start_cuentas_list)\n",
        "        elif int(action) == 4: accreditar(cuentas, start_cuentas_list)\n",
        "        elif int(action) == 5: entre_cuentas_transferir(cuentas, start_cuentas_list)\n",
        "        else: print(\"seleccion fallado\")"
      ],
      "metadata": {
        "id": "12dbDWN0Bp_U"
      },
      "execution_count": 9,
      "outputs": []
    },
    {
      "cell_type": "code",
      "source": [
        "if True:\n",
        "    actualizar_transacciones()\n",
        "if True:\n",
        "    actualizar_cuenta()\n",
        "    actualizar_cuenta()"
      ],
      "metadata": {
        "id": "pa3aaOV6o68f"
      },
      "execution_count": 10,
      "outputs": []
    }
  ]
}